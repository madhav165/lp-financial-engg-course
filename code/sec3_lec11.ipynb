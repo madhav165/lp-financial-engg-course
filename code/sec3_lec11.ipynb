{
 "cells": [
  {
   "cell_type": "code",
   "execution_count": 1,
   "id": "c28be7e8-ee96-4757-84a0-562ae79b26eb",
   "metadata": {},
   "outputs": [],
   "source": [
    "import pandas as pd"
   ]
  },
  {
   "cell_type": "code",
   "execution_count": 52,
   "id": "61b584f8-cedb-4b51-aa50-170c447f57e1",
   "metadata": {},
   "outputs": [],
   "source": [
    "df = pd.read_csv('../data/full_data.csv')"
   ]
  },
  {
   "cell_type": "code",
   "execution_count": 53,
   "id": "ad26613f-1e91-45c1-b188-2692382b84d3",
   "metadata": {},
   "outputs": [],
   "source": [
    "min_date = df['Date'].min()\n",
    "max_date = df['Date'].max()\n",
    "dt_rng = pd.DataFrame(pd.date_range(min_date, max_date), columns=['Date'])"
   ]
  },
  {
   "cell_type": "code",
   "execution_count": 54,
   "id": "ecfa320f-3a2c-46bf-a2f0-dba6bb89a2e4",
   "metadata": {},
   "outputs": [],
   "source": [
    "close_df = df.pivot(index='Date', columns='Symbol', values='Close').reset_index()\n",
    "close_df['Date'] = pd.to_datetime(close_df['Date'])\n",
    "close_df = dt_rng.merge(close_df, on='Date', how='left')\n",
    "close_df = close_df.fillna(method = 'ffill').fillna(method='bfill')\n",
    "close_df.to_csv('../data/full_close.csv')"
   ]
  },
  {
   "cell_type": "code",
   "execution_count": null,
   "id": "72b357f3-f946-48fb-9b83-21d5dbb4f9ea",
   "metadata": {},
   "outputs": [],
   "source": []
  }
 ],
 "metadata": {
  "kernelspec": {
   "display_name": "Python 3 (ipykernel)",
   "language": "python",
   "name": "python3"
  },
  "language_info": {
   "codemirror_mode": {
    "name": "ipython",
    "version": 3
   },
   "file_extension": ".py",
   "mimetype": "text/x-python",
   "name": "python",
   "nbconvert_exporter": "python",
   "pygments_lexer": "ipython3",
   "version": "3.9.12"
  }
 },
 "nbformat": 4,
 "nbformat_minor": 5
}
