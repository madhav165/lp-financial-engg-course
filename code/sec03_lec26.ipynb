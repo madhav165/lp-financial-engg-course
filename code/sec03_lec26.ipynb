{
 "cells": [
  {
   "cell_type": "code",
   "execution_count": 11,
   "id": "bf32e1ac-664d-4daa-9690-878a5550254c",
   "metadata": {},
   "outputs": [],
   "source": [
    "import pandas as pd\n",
    "import numpy as np\n",
    "from scipy.stats import jarque_bera, normaltest, t, kstest, ttest_1samp"
   ]
  },
  {
   "cell_type": "code",
   "execution_count": 2,
   "id": "9d42d277-1b60-4290-9a22-0a8ba80d3c01",
   "metadata": {},
   "outputs": [],
   "source": [
    "log_return_df = pd.read_csv('../data/full_log_return.csv', index_col='Date', parse_dates=True, dayfirst=True)"
   ]
  },
  {
   "cell_type": "code",
   "execution_count": 3,
   "id": "df5fb56f-ebac-4283-90e7-ba5c500bd15a",
   "metadata": {},
   "outputs": [],
   "source": [
    "apollo = log_return_df['APOLLOHOSP']"
   ]
  },
  {
   "cell_type": "code",
   "execution_count": 4,
   "id": "89ced19e-d2cf-4263-bfc1-62ab7e784843",
   "metadata": {},
   "outputs": [
    {
     "data": {
      "text/plain": [
       "Jarque_beraResult(statistic=941.5511520820733, pvalue=0.0)"
      ]
     },
     "execution_count": 4,
     "metadata": {},
     "output_type": "execute_result"
    }
   ],
   "source": [
    "jarque_bera(apollo)"
   ]
  },
  {
   "cell_type": "code",
   "execution_count": 5,
   "id": "9356e92c-d80f-4fe5-b8a8-f90712c23eea",
   "metadata": {},
   "outputs": [
    {
     "data": {
      "text/plain": [
       "NormaltestResult(statistic=80.55495808928053, pvalue=3.218941662385244e-18)"
      ]
     },
     "execution_count": 5,
     "metadata": {},
     "output_type": "execute_result"
    }
   ],
   "source": [
    "normaltest(apollo)"
   ]
  },
  {
   "cell_type": "code",
   "execution_count": 7,
   "id": "d48532cb-e71e-40c4-9aca-20d8fc9d8275",
   "metadata": {},
   "outputs": [],
   "source": [
    "ds, loc, scale = t.fit(apollo)"
   ]
  },
  {
   "cell_type": "code",
   "execution_count": 8,
   "id": "958fb9da-285e-4c32-ae6a-bf7cc8dfe2ee",
   "metadata": {},
   "outputs": [],
   "source": [
    "def cdf(x):\n",
    "    return t.cdf(x, ds, loc, scale)"
   ]
  },
  {
   "cell_type": "code",
   "execution_count": 10,
   "id": "18834e84-5eaf-4d1d-a0f1-ed255c999a8c",
   "metadata": {},
   "outputs": [
    {
     "data": {
      "text/plain": [
       "KstestResult(statistic=0.031900783270437105, pvalue=0.6802638893117137)"
      ]
     },
     "execution_count": 10,
     "metadata": {},
     "output_type": "execute_result"
    }
   ],
   "source": [
    "kstest(apollo, cdf)"
   ]
  },
  {
   "cell_type": "code",
   "execution_count": 13,
   "id": "f332eed6-ccbb-4aef-a369-db97c6003442",
   "metadata": {},
   "outputs": [
    {
     "data": {
      "text/plain": [
       "Ttest_1sampResult(statistic=2.0744333465082154, pvalue=0.038554285511120355)"
      ]
     },
     "execution_count": 13,
     "metadata": {},
     "output_type": "execute_result"
    }
   ],
   "source": [
    "ttest_1samp(apollo, 0)"
   ]
  },
  {
   "cell_type": "code",
   "execution_count": null,
   "id": "fd424042-482b-4c6b-9801-dfda2c4501f7",
   "metadata": {},
   "outputs": [],
   "source": []
  }
 ],
 "metadata": {
  "kernelspec": {
   "display_name": "Python 3 (ipykernel)",
   "language": "python",
   "name": "python3"
  },
  "language_info": {
   "codemirror_mode": {
    "name": "ipython",
    "version": 3
   },
   "file_extension": ".py",
   "mimetype": "text/x-python",
   "name": "python",
   "nbconvert_exporter": "python",
   "pygments_lexer": "ipython3",
   "version": "3.9.12"
  }
 },
 "nbformat": 4,
 "nbformat_minor": 5
}
